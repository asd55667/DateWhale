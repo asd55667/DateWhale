{
 "cells": [
  {
   "cell_type": "markdown",
   "metadata": {},
   "source": [
    "## 安装\n",
    "- ubuntu-16.04\n",
    "\n",
    "```\n",
    "$sudo apt-get install mysql-server\n",
    "$sudo apt-get install mysql-client\n",
    "$sudo apt-get install libmysqlclient-dev\n",
    "```"
   ]
  },
  {
   "cell_type": "markdown",
   "metadata": {},
   "source": [
    "### 验证\n",
    "\n",
    "```\n",
    "$mysqladmin --version\n",
    "```\n"
   ]
  },
  {
   "cell_type": "markdown",
   "metadata": {},
   "source": [
    "### 登录\n",
    "```\n",
    "$mysql -u [用户] -p\n",
    "```\n"
   ]
  },
  {
   "cell_type": "markdown",
   "metadata": {},
   "source": [
    "# 数据库基础知识\n",
    "## 数据库定义\n",
    "SQL(Structured Query Language)是一种在关系数据库用于规划和管理数据或进行流处理的语言.\n",
    "\n",
    ">SQL不区分大小写\n",
    "\n",
    "对结构数据尤其高效,它引入了两个概念\n",
    "- 用单条命令访问多个记录\n",
    "- 访问一个记录无需索引\n",
    "\n",
    "SQL定义了多种操作数据库的能力:\n",
    "- DDL: Data Definition Language\n",
    " - 允许用户自定义数据, 如创建,删除,修改表的结构\n",
    "- DML: Data Manipulation Language\n",
    " - 允许用户添加,删除,更新数据,  应用程序对数据库的操作\n",
    "- DQL: Data Query Language \n",
    " - 允许用户查询数据\n",
    "- DCL: Data control Language\n",
    " - 用来控制访问数据的权限\n",
    "\n",
    "\n",
    "## 关系数据库\n",
    "关系数据库指用关系模型来组织数据的数据库, 相当于是若干个存储数据的二维表,\n",
    "### 优点\n",
    "- 好理解 \n",
    "- 好用\n",
    "- 好维护\n",
    "\n",
    "### 不足\n",
    "- 基于硬盘I/O无法高并发读写\n",
    "- 难以横向扩展性, 升级与扩展时需停机维护,数据迁移\n",
    "- 大数据下读写效率低\n",
    "\n",
    "## 二维表\n",
    "### 行\n",
    "表的每一行为一个记录, 一个逻辑意义上的数据. 对应一个数据及其多重属性.\n",
    "### 列\n",
    "表的每一列为一个字段, 即记录的属性.每一行记录拥有多个字段.\n",
    "\n",
    "在字段处定义了数据类型, 每一列的数据类型为同一种,常见的类型有:\n",
    "- 整型\n",
    "- 浮点型\n",
    "- 字符串\n",
    "- 日期\n",
    "- 是否允许为NULL\n",
    " - NULL表示字段数据不存在。一个整型字段如果为NULL不表示它的值为0，同样的，一个字符串型字段为NULL也不表示它的值为空串''\n",
    " - 通常，字段应该避免允许为NULL。不允许为NULL可以简化查询条件，加快查询速度，也利于应用程序读取数据后无需判断是否为NULL。\n",
    " \n",
    "关系主要通过主键和外键来维护\n",
    "## 主键\n",
    "任意两条记录不能完全相同, 会出现两条记录拥有多个相同字段的情况,这时可以通过主键来区分.\n",
    "\n",
    "主键用来定位记录, 可以区分任意两条记录, 所以当记录入表后, 切忌修改主键.\n",
    "\n",
    "主键最好是完全业务无关的字段, 通常用id来表示, 常见的id有:\n",
    "- 自增整型索引\n",
    "- 全局唯一GUID类型\n",
    "\n",
    "\n",
    "## 外键\n",
    "一个表的外键是另一个表的主键, 可重复,可为空值, 用来建立表之间的联系, 一个表可以有多个外键\n",
    "\n",
    "外键并不是通过列名实现的, 而是通过定义外键约束:\n",
    "```\n",
    "ALTER TABLE students\n",
    "ADD CONSTRAINT fk_class_id    #外键约束可以任意\n",
    "FOREIGH KEY (class_id)\n",
    "REFERENCES class (id);\n",
    "```\n",
    "由于外键约束会降低数据库的性能，大部分互联网应用程序为了追求速度，并不设置外键约束，而是仅靠应用程序自身来保证逻辑的正确性。这种情况下，class_id仅仅是一个普通的列，只是起到了外键的作用而已。\n",
    "\n",
    "删除外键\n",
    "```\n",
    "ALTER TABLE students\n",
    "DROP FOREIGN KEY fk_class_id\n",
    "```\n",
    "\n",
    "### 多对多\n",
    "当两个表互相都需要引用对方的主键作为外键,\n",
    "通过两个一对多实现, 通过一个中间表进行关联"
   ]
  },
  {
   "cell_type": "markdown",
   "metadata": {},
   "source": [
    "# MySQL数据库管理系统\n",
    "## 查看MySQL服务器状态\n",
    "```\n",
    "$ps -ef | grep mysqld\n",
    "```\n",
    "\n",
    "\n",
    "## 重启mysql服务器\n",
    "```\n",
    "$service mysql restart\n",
    "```\n",
    "\n",
    "## 停止mysql服务器\n",
    "```\n",
    "$service mysql stop\n",
    "```"
   ]
  },
  {
   "cell_type": "markdown",
   "metadata": {},
   "source": [
    "## 数据库\n"
   ]
  },
  {
   "cell_type": "markdown",
   "metadata": {},
   "source": [
    "## 数据表\n",
    "## 视图\n",
    "## 存储过程"
   ]
  }
 ],
 "metadata": {
  "kernelspec": {
   "display_name": "tf",
   "language": "python",
   "name": "tf"
  },
  "language_info": {
   "codemirror_mode": {
    "name": "ipython",
    "version": 3
   },
   "file_extension": ".py",
   "mimetype": "text/x-python",
   "name": "python",
   "nbconvert_exporter": "python",
   "pygments_lexer": "ipython3",
   "version": "3.6.7"
  }
 },
 "nbformat": 4,
 "nbformat_minor": 2
}
