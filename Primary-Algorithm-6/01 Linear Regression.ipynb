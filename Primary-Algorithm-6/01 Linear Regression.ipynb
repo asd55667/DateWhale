{
 "cells": [
  {
   "cell_type": "markdown",
   "metadata": {},
   "source": [
    "## 监督学习\n",
    "监督学习是机器学习任务中的一种,目的是构建这样一个函数,能够映射IO实例间的内在联系.输入通常是一个向量,当输出为连续值时为回归, 类别信息时则是分类.监督学习旨在推测输入在给定标签下的条件概率分布.\n",
    ">特点\n",
    "\n",
    "训练样本拥有明确的标记\n",
    "\n",
    ">常见算法\n",
    "- SVM\n",
    "- 线性回归\n",
    " - 岭回归\n",
    " - lasso\n",
    " - 前向逐步回归\n",
    " - 局部加权线性回归\n",
    "- 逻辑回归\n",
    "- 朴素贝叶斯\n",
    "- 线性判别分析\n",
    "- 决策树\n",
    "- 神经网络\n",
    "\n",
    "## 无监督学习\n",
    "无监督学习是种对输入概率密度建模的方法.无监督学习的主要应用在基于统计的概率密度估计.旨在推测输入先验概率分布.\n",
    "\n",
    ">特点\n",
    "\n",
    "训练样本无标签\n",
    "\n",
    ">常见算法\n",
    "- 聚类\n",
    " - 层次聚类\n",
    " - k-means\n",
    " - 混合模型\n",
    " - 密度聚类\n",
    "   - DBSCAN\n",
    "- 故障检测\n",
    " - Local Outlier Factor\n",
    "- 神经网络\n",
    " - 自编码器\n",
    " - DBN\n",
    " - GAN \n",
    "- 隐变量模型\n",
    " - EM\n",
    " \n",
    "\n",
    "## 泛化能力\n",
    "举一反三的能力, 一个模型泛化能力强, 则该模型对未参与训练的数据预测,能得到很好的效果.\n",
    "\n"
   ]
  },
  {
   "cell_type": "markdown",
   "metadata": {},
   "source": [
    "## 过拟合,欠拟合\n",
    "### 过拟合\n",
    "对训练数据学习程度过深, 将训练数据中一些特有的特征理解成了普遍特征.\n",
    "> 特点\n",
    "\n",
    "对训练数据拟合的十分完美, 在测试集上的效果却不如训练集上.\n",
    "> 解决办法\n",
    "- 降低模型复杂度\n",
    "- 扩充训练样本\n",
    "- 添加正则\n",
    "\n",
    "### 欠拟合\n",
    "模型学习能力不够,甚至连一些基本的特征也无法学习到\n",
    "\n",
    ">特点\n",
    "\n",
    "训练集与测试集效果都很差\n",
    "\n",
    ">解决办法\n",
    "- 增加模型复杂度\n",
    "- 减少正则"
   ]
  },
  {
   "cell_type": "markdown",
   "metadata": {},
   "source": [
    "## 交叉验证\n",
    "### k折交叉验证\n",
    "将数据集划分为k折, 每次选择其中k-1折训练,剩下的一折用来测试.\n",
    "### 留一法\n",
    "相当于是k折交叉验证取k为数据的个数, 在数据非常少的情况下可以用留一法.\n",
    "### bootstrap\n",
    "数据量极少的情况下使用, 有放回的随机抽取数据集中的一个样本至次数达到样本数, 没有取到过的留做测试"
   ]
  },
  {
   "cell_type": "markdown",
   "metadata": {},
   "source": [
    "## 线性回归\n",
    "线性回归是一种对自变量与因变量间关系建模的方法;当因变量为多个时为多元线性回归.\n",
    "### 损失函数,代价函数, 目标函数\n",
    "线性回归通常都是用最最小二乘法来实现.\n",
    "$L=(Y-W^TX)^2$\n",
    "\n",
    "损失函数与代价函数差不多,区别在于整体提与单个, 用于衡量预测结果与真实结果间的距离,\n",
    "目标函数则是优化的目标, 在损失的基础上,往往还会有约束项.\n",
    "\n",
    "\n",
    "### 优化方法\n",
    "#### 梯度下降\n",
    "梯度$\\nabla L=(Y-W^TX)X$\n",
    "\n",
    "$W=W-\\alpha \\nabla L$\n",
    "#### Normal equation\n",
    "$W=(X^TX)^{-1}X^TY$\n",
    "\n",
    "对凸函数,能一步到达最优\n",
    "当数据量大时求解拟矩阵的成本过高,\n",
    "适合数据量不大的情况\n",
    "#### 牛顿法\n",
    "牛顿法为二阶,收敛比梯度下降要快得多,但海森矩阵的求解成本很高\n",
    "\n",
    "$W=W-\\alpha \\frac{\\nabla L}{\\nabla^2L}$\n",
    "\n",
    "#### 拟牛顿法\n",
    "- DFP\n",
    "\n",
    "$S_{k+1} = S_k + \\frac{\\delta_k \\delta^T}{\\delta^T \\gamma_k} - \\frac{S_k \\gamma_k \\gamma_k^T S_k}{\\gamma_k^T S_k\\gamma_k}$\n",
    "- BFGS\n",
    "\n",
    "$S_{k+1} = S_k + (1+\\frac{\\gamma_k^TS_k\\gamma_k}{\\gamma_k^T\\delta_k})\\frac{\\delta_k \\delta_k^T}{\\gamma_k^T\\delta_k}-\\frac{\\delta_k\\gamma_k^TS_k+S_k\\gamma_k\\delta_k^T}{\\gamma_k^T\\delta_k}$\n",
    "- L-BFGS\n",
    "\n",
    "空间复杂度比BFGS低\n",
    "\n",
    "### 评估指标\n",
    "评估线性回归模型的好坏,通常用均方误差,均方根误差,平均绝对误差等\n",
    "\n",
    "$MSE=(Y-\\hat{Y})^2$\n",
    "\n",
    "$RMSE=\\sqrt{MSE}$\n",
    "\n",
    "$MAE=\\|{Y-\\hat{Y}}\\|$\n",
    "\n"
   ]
  },
  {
   "cell_type": "markdown",
   "metadata": {},
   "source": [
    "### Sklearn"
   ]
  },
  {
   "cell_type": "code",
   "execution_count": 9,
   "metadata": {},
   "outputs": [],
   "source": [
    "import numpy as np\n",
    "np.random.seed(1111)\n",
    "noise = np.random.randint(-3, 3,size=(20,)) + np.random.rand(20)"
   ]
  },
  {
   "cell_type": "code",
   "execution_count": 10,
   "metadata": {},
   "outputs": [],
   "source": [
    "x = np.array(range(20))"
   ]
  },
  {
   "cell_type": "code",
   "execution_count": 11,
   "metadata": {},
   "outputs": [
    {
     "data": {
      "image/png": "[encoded data removed]",
      "text/plain": [
       "<Figure size 432x288 with 1 Axes>"
      ]
     },
     "metadata": {
      "needs_background": "light"
     },
     "output_type": "display_data"
    }
   ],
   "source": [
    "import matplotlib.pyplot as plt\n",
    "plt.scatter(x, 2*x+noise);"
   ]
  },
  {
   "cell_type": "code",
   "execution_count": 12,
   "metadata": {},
   "outputs": [
    {
     "data": {
      "text/plain": [
       "LinearRegression(copy_X=True, fit_intercept=True, n_jobs=None,\n",
       "         normalize=False)"
      ]
     },
     "execution_count": 12,
     "metadata": {},
     "output_type": "execute_result"
    }
   ],
   "source": [
    "from sklearn.linear_model import LinearRegression\n",
    "lr = LinearRegression()\n",
    "lr.fit(x.reshape(-1,1), x*2+noise+1,)"
   ]
  },
  {
   "cell_type": "code",
   "execution_count": 13,
   "metadata": {},
   "outputs": [
    {
     "data": {
      "text/plain": [
       "array([2.01497299])"
      ]
     },
     "execution_count": 13,
     "metadata": {},
     "output_type": "execute_result"
    }
   ],
   "source": [
    "lr.coef_"
   ]
  },
  {
   "cell_type": "code",
   "execution_count": 14,
   "metadata": {},
   "outputs": [
    {
     "data": {
      "text/plain": [
       "1.1176300465227769"
      ]
     },
     "execution_count": 14,
     "metadata": {},
     "output_type": "execute_result"
    }
   ],
   "source": [
    "lr.intercept_"
   ]
  },
  {
   "cell_type": "code",
   "execution_count": 15,
   "metadata": {},
   "outputs": [
    {
     "data": {
      "image/png": "[encoded data removed]",
      "text/plain": [
       "<Figure size 432x288 with 1 Axes>"
      ]
     },
     "metadata": {
      "needs_background": "light"
     },
     "output_type": "display_data"
    }
   ],
   "source": [
    "plt.scatter(x, x*2+noise);\n",
    "plt.plot(x, lr.predict(x.reshape(-1, 1)));"
   ]
  },
  {
   "cell_type": "markdown",
   "metadata": {},
   "source": [
    "## 概率解释\n",
    "假定$y_i=\\theta^Tx_i+\\varepsilon_i,$   \n",
    "\n",
    "$ \\varepsilon_i泛指影响一切误差$  \n",
    "\n",
    "\n",
    "\n",
    "假设$\\forall \\varepsilon \\in \\mathit{IID}$,根据中心极限定理, 误差分布会趋向高斯分布,$\\forall \\varepsilon \\sim \\mathcal N(0, \\sigma^2)$\n",
    "这样可以带来数学上的便利\n",
    "\n",
    "在机器学习中, 所做的所有假设, 在绝对意义上都不是完全正确的.\n",
    "\n",
    "概率密度函数$P(\\varepsilon)=\\frac{1}{\\sqrt{2\\pi}\\sigma}exp(-\\frac{\\varepsilon^2}{2\\sigma^2})$\n",
    "\n",
    "\n",
    "同样在给定参数的情况下, 模型服从正太分布\n",
    "\n",
    "$P(y|x;\\theta)\\frac{1}{\\sqrt{2\\pi}\\sigma}exp(-\\frac{(y-\\theta^Tx)^2}{2\\sigma^2})$\n",
    "\n",
    "$这里采用频率学派的观点, 随机变量\\theta是一个具体的值,用;隔开, 只是无法直接观测到$, \n",
    "\n",
    "\n",
    "似然函数$$\\mathcal L(\\theta) = P(\\vec{y}|X;\\theta)\\\\= \\prod_{i=1}^{m}P(y_i|x_i;\\theta)\\\\=\\prod_{i=1}^{m}\\frac{1}\n",
    "{\\sqrt{2\\pi\\sigma}}exp(-\\frac{y_i-\\theta^Tx_i)^2}{2\\sigma^2})$$\n",
    "\n",
    "取对数似然进行化简就得到了最小二乘的形式\n",
    " "
   ]
  }
 ],
 "metadata": {
  "kernelspec": {
   "display_name": "tf",
   "language": "python",
   "name": "tf"
  },
  "language_info": {
   "codemirror_mode": {
    "name": "ipython",
    "version": 3
   },
   "file_extension": ".py",
   "mimetype": "text/x-python",
   "name": "python",
   "nbconvert_exporter": "python",
   "pygments_lexer": "ipython3",
   "version": "3.6.7"
  }
 },
 "nbformat": 4,
 "nbformat_minor": 2
}
