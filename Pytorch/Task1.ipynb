{
 "cells": [
  {
   "cell_type": "markdown",
   "metadata": {},
   "source": [
    "[Pytorch](#Pytorch)\n",
    "\n",
    "[PyTorch基础概念](#PyTorch基础概念)\n",
    "\n",
    "[通用代码实现流程(实现一个深度学习的代码流程)](#手写数字识别代码实现)"
   ]
  },
  {
   "cell_type": "markdown",
   "metadata": {},
   "source": [
    "# Pytorch\n",
    "\n",
    "pytorch是基于Lua的Torch对其Tensor上所有模块进行重构并新增了AutoGrad系统的python版本\n",
    "\n",
    "几乎所有所有的深度学习框架都是基于计算图的, 计算图分静态与动态, \n",
    "\n",
    "> 静态图\n",
    "\n",
    "先定义再运行, 一次定义多次运行,\n",
    "\n",
    "静态图一旦创建就不能修改,  无法使用if,while, for-loop等常用的python语句, 在构建图的时候必须把所有可能出现的情况都包含景区, 这导致了静态图过于庞大, 可能占用过高的显存.\n",
    ">动态图\n",
    "\n",
    "在运行的过程中被定义, 在运行的时候构建, 可以多次构建多次运行. \n",
    "\n",
    ">pytorch的优势\n",
    "\n",
    "- 1. 简洁, 抽象层次为tensor->variable(autograd)->nn.Module, 分别代表高维数组(张量),自动求导(变量),神经网络(层/模块),且抽象层次间联系紧密,可同时进行修改和操作\n",
    "- 2. 速度快\n",
    "- 3. 好用,比tf容易上手, 比keras更灵活\n",
    "- 4. 易于调试"
   ]
  },
  {
   "cell_type": "markdown",
   "metadata": {},
   "source": [
    "# [PyTorch基础概念 ](https://github.com/chenyuntc/pytorch-book/blob/master/chapter2-快速入门/)\n",
    "### Tensor\n",
    "Tensor是Pytorch中重要的数据结构, 可认为是一个高维数组, Tensor和numpy的ndarrays类似, 但看有使用GPU加速"
   ]
  },
  {
   "cell_type": "code",
   "execution_count": 1,
   "metadata": {},
   "outputs": [
    {
     "data": {
      "text/plain": [
       "'1.0.0'"
      ]
     },
     "execution_count": 1,
     "metadata": {},
     "output_type": "execute_result"
    }
   ],
   "source": [
    "import torch as t\n",
    "t.__version__"
   ]
  },
  {
   "cell_type": "code",
   "execution_count": 2,
   "metadata": {},
   "outputs": [
    {
     "data": {
      "text/plain": [
       "tensor([[0.1020, 0.4409, 0.7245],\n",
       "        [0.6740, 0.4470, 0.3892],\n",
       "        [0.3160, 0.2897, 0.0461],\n",
       "        [0.6536, 0.7484, 0.7170],\n",
       "        [0.0975, 0.4740, 0.1082]])"
      ]
     },
     "execution_count": 2,
     "metadata": {},
     "output_type": "execute_result"
    }
   ],
   "source": [
    "t.manual_seed(20190406)\n",
    "t.cuda.manual_seed(20190406)\n",
    "x = t.rand(5,3)\n",
    "x"
   ]
  },
  {
   "cell_type": "markdown",
   "metadata": {},
   "source": [
    "x.add_(x)和x.t_()会改变x, 但x.add(x)和x.t()会返回一个新的Tensor, 而x不变"
   ]
  },
  {
   "cell_type": "code",
   "execution_count": 3,
   "metadata": {},
   "outputs": [
    {
     "data": {
      "text/plain": [
       "tensor([[0.2040, 0.8818, 1.4489],\n",
       "        [1.3480, 0.8940, 0.7785],\n",
       "        [0.6319, 0.5794, 0.0923],\n",
       "        [1.3073, 1.4968, 1.4339],\n",
       "        [0.1950, 0.9480, 0.2164]])"
      ]
     },
     "execution_count": 3,
     "metadata": {},
     "output_type": "execute_result"
    }
   ],
   "source": [
    "x.add(x)"
   ]
  },
  {
   "cell_type": "code",
   "execution_count": 4,
   "metadata": {},
   "outputs": [
    {
     "data": {
      "text/plain": [
       "tensor([[0.1020, 0.4409, 0.7245],\n",
       "        [0.6740, 0.4470, 0.3892],\n",
       "        [0.3160, 0.2897, 0.0461],\n",
       "        [0.6536, 0.7484, 0.7170],\n",
       "        [0.0975, 0.4740, 0.1082]])"
      ]
     },
     "execution_count": 4,
     "metadata": {},
     "output_type": "execute_result"
    }
   ],
   "source": [
    "x"
   ]
  },
  {
   "cell_type": "code",
   "execution_count": 5,
   "metadata": {},
   "outputs": [
    {
     "data": {
      "text/plain": [
       "tensor([[0.2040, 0.8818, 1.4489],\n",
       "        [1.3480, 0.8940, 0.7785],\n",
       "        [0.6319, 0.5794, 0.0923],\n",
       "        [1.3073, 1.4968, 1.4339],\n",
       "        [0.1950, 0.9480, 0.2164]])"
      ]
     },
     "execution_count": 5,
     "metadata": {},
     "output_type": "execute_result"
    }
   ],
   "source": [
    "x.add_(x)"
   ]
  },
  {
   "cell_type": "code",
   "execution_count": 6,
   "metadata": {},
   "outputs": [
    {
     "data": {
      "text/plain": [
       "tensor([[0.2040, 0.8818, 1.4489],\n",
       "        [1.3480, 0.8940, 0.7785],\n",
       "        [0.6319, 0.5794, 0.0923],\n",
       "        [1.3073, 1.4968, 1.4339],\n",
       "        [0.1950, 0.9480, 0.2164]])"
      ]
     },
     "execution_count": 6,
     "metadata": {},
     "output_type": "execute_result"
    }
   ],
   "source": [
    "x"
   ]
  },
  {
   "cell_type": "markdown",
   "metadata": {},
   "source": [
    "Tensor和numpy数组间共同的操作非常容易且快速, 对于Tensor不支持的操作, 可以先转为numpy数组处理, 之后再转回Tensor"
   ]
  },
  {
   "cell_type": "code",
   "execution_count": 7,
   "metadata": {},
   "outputs": [
    {
     "data": {
      "text/plain": [
       "array([[0.20403636, 0.88179016, 1.4489224 ],\n",
       "       [1.3479862 , 0.89399457, 0.7784997 ],\n",
       "       [0.6319251 , 0.5794474 , 0.09229195],\n",
       "       [1.3072973 , 1.4967729 , 1.4339076 ],\n",
       "       [0.19501972, 0.94798684, 0.21635413]], dtype=float32)"
      ]
     },
     "execution_count": 7,
     "metadata": {},
     "output_type": "execute_result"
    }
   ],
   "source": [
    "y = x.numpy()\n",
    "y"
   ]
  },
  {
   "cell_type": "code",
   "execution_count": 8,
   "metadata": {},
   "outputs": [
    {
     "data": {
      "text/plain": [
       "tensor([[0.2040, 0.8818, 1.4489],\n",
       "        [1.3480, 0.8940, 0.7785],\n",
       "        [0.6319, 0.5794, 0.0923],\n",
       "        [1.3073, 1.4968, 1.4339],\n",
       "        [0.1950, 0.9480, 0.2164]])"
      ]
     },
     "execution_count": 8,
     "metadata": {},
     "output_type": "execute_result"
    }
   ],
   "source": [
    "z = t.from_numpy(y)\n",
    "z"
   ]
  },
  {
   "cell_type": "markdown",
   "metadata": {},
   "source": [
    "Tensor可通过.cuda方法转为GPU的Tensor, 从而享受GPU带来的加速运算"
   ]
  },
  {
   "cell_type": "markdown",
   "metadata": {},
   "source": [
    "### Autograd\n",
    "Tensor关于autograd的属性主要有\n",
    "- data. 保存张量数值\n",
    "- grad. 保存张量的梯度\n",
    "- grad_fn 指向一个Function对象, BP时用来计算输入的梯度\n",
    "\n",
    "要使Tensor使用autograd功能，只需要设置tensor.requries_grad=True."
   ]
  },
  {
   "cell_type": "code",
   "execution_count": 9,
   "metadata": {},
   "outputs": [
    {
     "data": {
      "text/plain": [
       "tensor([[1., 1.],\n",
       "        [1., 1.]], requires_grad=True)"
      ]
     },
     "execution_count": 9,
     "metadata": {},
     "output_type": "execute_result"
    }
   ],
   "source": [
    "x = t.ones(2, 2, requires_grad=True)\n",
    "x\n",
    "# 等价于\n",
    "# x = t.ones(2,2)\n",
    "# x.requires_grad = True"
   ]
  },
  {
   "cell_type": "code",
   "execution_count": 10,
   "metadata": {},
   "outputs": [
    {
     "data": {
      "text/plain": [
       "tensor(4., grad_fn=<SumBackward0>)"
      ]
     },
     "execution_count": 10,
     "metadata": {},
     "output_type": "execute_result"
    }
   ],
   "source": [
    "y = x.sum()\n",
    "y"
   ]
  },
  {
   "cell_type": "code",
   "execution_count": 11,
   "metadata": {},
   "outputs": [
    {
     "data": {
      "text/plain": [
       "(tensor(4.), <SumBackward0 at 0x7ff8314d8e10>, None)"
      ]
     },
     "execution_count": 11,
     "metadata": {},
     "output_type": "execute_result"
    }
   ],
   "source": [
    "y.data, y.grad_fn, y.grad"
   ]
  },
  {
   "cell_type": "code",
   "execution_count": 12,
   "metadata": {},
   "outputs": [
    {
     "data": {
      "text/plain": [
       "tensor([[1., 1.],\n",
       "        [1., 1.]])"
      ]
     },
     "execution_count": 12,
     "metadata": {},
     "output_type": "execute_result"
    }
   ],
   "source": [
    "y.backward()\n",
    "x.grad"
   ]
  },
  {
   "cell_type": "code",
   "execution_count": 13,
   "metadata": {},
   "outputs": [
    {
     "data": {
      "text/plain": [
       "tensor([[2., 2.],\n",
       "        [2., 2.]])"
      ]
     },
     "execution_count": 13,
     "metadata": {},
     "output_type": "execute_result"
    }
   ],
   "source": [
    "y.backward()\n",
    "x.grad"
   ]
  },
  {
   "cell_type": "code",
   "execution_count": 14,
   "metadata": {},
   "outputs": [
    {
     "data": {
      "text/plain": [
       "tensor([[0., 0.],\n",
       "        [0., 0.]])"
      ]
     },
     "execution_count": 14,
     "metadata": {},
     "output_type": "execute_result"
    }
   ],
   "source": [
    "# 以下划线结束的函数是inplace操作，会修改自身的值，就像add_\n",
    "x.grad.data.zero_()"
   ]
  },
  {
   "cell_type": "code",
   "execution_count": 15,
   "metadata": {},
   "outputs": [
    {
     "data": {
      "text/plain": [
       "tensor([[1., 1.],\n",
       "        [1., 1.]])"
      ]
     },
     "execution_count": 15,
     "metadata": {},
     "output_type": "execute_result"
    }
   ],
   "source": [
    "y.backward()\n",
    "x.grad"
   ]
  },
  {
   "cell_type": "markdown",
   "metadata": {},
   "source": [
    "# 手写数字识别代码实现\n",
    "### 定义网络\n",
    "需要继承nn.Module，实现它的forward方法，把网络中具有可学习参数的层放在构造函数__init__中。如果某一层(如ReLU)不具有可学习的参数，则既可以放在构造函数中，也可以不放，通常不放."
   ]
  },
  {
   "cell_type": "code",
   "execution_count": 16,
   "metadata": {},
   "outputs": [
    {
     "name": "stdout",
     "output_type": "stream",
     "text": [
      "LeNet(\n",
      "  (conv1): Conv2d(1, 6, kernel_size=(5, 5), stride=(1, 1))\n",
      "  (conv2): Conv2d(6, 16, kernel_size=(5, 5), stride=(1, 1))\n",
      "  (fc1): Linear(in_features=400, out_features=120, bias=True)\n",
      "  (fc2): Linear(in_features=120, out_features=84, bias=True)\n",
      "  (fc3): Linear(in_features=84, out_features=10, bias=True)\n",
      ")\n"
     ]
    }
   ],
   "source": [
    "import torch.nn as nn\n",
    "import torch.nn.functional as F\n",
    "\n",
    "class LeNet(nn.Module):\n",
    "    def __init__(self):\n",
    "        super(LeNet, self).__init__()\n",
    "        self.conv1 = nn.Conv2d(1, 6, 5)\n",
    "        self.conv2 = nn.Conv2d(6, 16, 5)\n",
    "        self.fc1 = nn.Linear(16*5*5, 120)\n",
    "        self.fc2 = nn.Linear(120, 84)\n",
    "        self.fc3 = nn.Linear(84, 10)\n",
    "\n",
    "    def forward(self, x):\n",
    "        x = F.max_pool2d(F.relu(self.conv1(x)), (2,2))\n",
    "        x = F.max_pool2d(F.relu(self.conv2(x)), 2)\n",
    "        x = x.view(x.size()[0], -1)\n",
    "        x = F.relu(self.fc1(x))\n",
    "        x = F.relu(self.fc2(x))\n",
    "        x = self.fc3(x)\n",
    "        return x\n",
    "lenet = LeNet()\n",
    "print(lenet)"
   ]
  },
  {
   "cell_type": "markdown",
   "metadata": {},
   "source": [
    "只要在nn.Module的子类中定义了forward函数，backward函数就会自动被实现(利用autograd)。在forward 函数中可使用任何tensor支持的函数，还可以使用if、for循环、print、log等Python语法，写法和标准的Python写法一致。\n",
    "\n",
    "网络的可学习参数通过net.parameters()返回，net.named_parameters可同时返回可学习的参数及名称。"
   ]
  },
  {
   "cell_type": "code",
   "execution_count": 17,
   "metadata": {},
   "outputs": [
    {
     "data": {
      "text/plain": [
       "10"
      ]
     },
     "execution_count": 17,
     "metadata": {},
     "output_type": "execute_result"
    }
   ],
   "source": [
    "params = list(lenet.parameters())\n",
    "len(params)"
   ]
  },
  {
   "cell_type": "code",
   "execution_count": 18,
   "metadata": {},
   "outputs": [
    {
     "name": "stdout",
     "output_type": "stream",
     "text": [
      "conv1.weight : torch.Size([6, 1, 5, 5])\n",
      "conv1.bias : torch.Size([6])\n",
      "conv2.weight : torch.Size([16, 6, 5, 5])\n",
      "conv2.bias : torch.Size([16])\n",
      "fc1.weight : torch.Size([120, 400])\n",
      "fc1.bias : torch.Size([120])\n",
      "fc2.weight : torch.Size([84, 120])\n",
      "fc2.bias : torch.Size([84])\n",
      "fc3.weight : torch.Size([10, 84])\n",
      "fc3.bias : torch.Size([10])\n"
     ]
    }
   ],
   "source": [
    "for name, param in lenet.named_parameters():\n",
    "    print(name,':', param.size())"
   ]
  },
  {
   "cell_type": "code",
   "execution_count": 19,
   "metadata": {},
   "outputs": [
    {
     "data": {
      "text/plain": [
       "torch.Size([1, 10])"
      ]
     },
     "execution_count": 19,
     "metadata": {},
     "output_type": "execute_result"
    }
   ],
   "source": [
    "inp = t.rand(1, 1, 32, 32)\n",
    "out = lenet(inp)\n",
    "out.size()"
   ]
  },
  {
   "cell_type": "code",
   "execution_count": 20,
   "metadata": {},
   "outputs": [],
   "source": [
    "lenet.zero_grad()\n",
    "out.backward(t.ones(1,10))"
   ]
  },
  {
   "cell_type": "markdown",
   "metadata": {},
   "source": [
    "### 损失函数"
   ]
  },
  {
   "cell_type": "code",
   "execution_count": 34,
   "metadata": {},
   "outputs": [
    {
     "data": {
      "text/plain": [
       "tensor(29.0072, grad_fn=<MseLossBackward>)"
      ]
     },
     "execution_count": 34,
     "metadata": {},
     "output_type": "execute_result"
    }
   ],
   "source": [
    "y = lenet(inp)\n",
    "y_ = t.FloatTensor(range(0,10)).view(1,10)\n",
    "y_ = t.arange(0,10).view(1,10).float()\n",
    "criterion = nn.MSELoss()\n",
    "loss = criterion(y, y_)\n",
    "loss"
   ]
  },
  {
   "cell_type": "code",
   "execution_count": 35,
   "metadata": {
    "scrolled": true
   },
   "outputs": [
    {
     "name": "stdout",
     "output_type": "stream",
     "text": [
      "tensor([0., 0., 0., 0., 0., 0.])\n",
      "tensor([ 0.0941, -0.0444,  0.0130,  0.0017, -0.0054, -0.0047])\n"
     ]
    }
   ],
   "source": [
    "lenet.zero_grad()\n",
    "print(lenet.conv1.bias.grad)\n",
    "\n",
    "loss.backward()\n",
    "print(lenet.conv1.bias.grad)"
   ]
  },
  {
   "cell_type": "markdown",
   "metadata": {},
   "source": [
    "### 优化器"
   ]
  },
  {
   "cell_type": "code",
   "execution_count": 43,
   "metadata": {},
   "outputs": [
    {
     "name": "stdout",
     "output_type": "stream",
     "text": [
      "tensor(3.0897)\n",
      "tensor(125.8324)\n",
      "tensor(15810.3477)\n",
      "tensor(822.7627)\n",
      "tensor(4841.0610)\n",
      "tensor(12.3571)\n",
      "tensor(11.2755)\n",
      "tensor(10.2020)\n",
      "tensor(9.1451)\n",
      "tensor(8.1132)\n"
     ]
    }
   ],
   "source": [
    "import torch.optim as optim\n",
    "optimizer = optim.SGD(lenet.parameters(), lr=0.01)\n",
    "\n",
    "optimizer.zero_grad()\n",
    "for i in range(10):\n",
    "    y = lenet(inp)\n",
    "    loss = criterion(y, y_)\n",
    "\n",
    "    loss.backward()\n",
    "\n",
    "    optimizer.step()\n",
    "    print(loss.data)"
   ]
  }
 ],
 "metadata": {
  "kernelspec": {
   "display_name": "tf",
   "language": "python",
   "name": "tf"
  },
  "language_info": {
   "codemirror_mode": {
    "name": "ipython",
    "version": 3
   },
   "file_extension": ".py",
   "mimetype": "text/x-python",
   "name": "python",
   "nbconvert_exporter": "python",
   "pygments_lexer": "ipython3",
   "version": "3.6.7"
  }
 },
 "nbformat": 4,
 "nbformat_minor": 2
}
