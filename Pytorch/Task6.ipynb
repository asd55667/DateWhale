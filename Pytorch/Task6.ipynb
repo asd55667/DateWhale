{
 "cells": [
  {
   "cell_type": "markdown",
   "metadata": {},
   "source": [
    "# 书写优化器代码\n",
    "\n",
    "神经网络中的优化算法几乎都是与梯度挂钩, 无外乎梯度下降的变种, 以及L-BFGS等"
   ]
  },
  {
   "cell_type": "markdown",
   "metadata": {},
   "source": [
    "### Momentum\n",
    "单纯的梯度下降容易在梯度为零处卡住, 比如低维的局部极值点,高维鞍点, 模型的收敛往往取决于初始点的选取\n",
    "\n",
    "带动量的梯度下降相当于一种平滑处理, 机制为ExponentialMovingAverage, 梯度的更新量需要考虑过去值, \n",
    "\n",
    "当到达极值点时, 梯度会带有以往的势能, 在一定程度上能跨过局部最小"
   ]
  },
  {
   "cell_type": "code",
   "execution_count": 1,
   "metadata": {},
   "outputs": [],
   "source": [
    "import numpy as np \n",
    "import matplotlib.pyplot as plt\n",
    "\n",
    "x = np.linspace(-5, 5, 1000)\n",
    "\n",
    "y = lambda x:((x+1)**2+4) * (x<0) + (x>=0) * (4*(x-1)**2+1)\n",
    "plt.scatter([-1,1], [4,1], c='r') # 极值点\n",
    "plt.plot(x, y(x));"
   ]
  },
  {
   "cell_type": "code",
   "execution_count": 2,
   "metadata": {},
   "outputs": [
    {
     "data": {
      "image/png": "[encoded data removed]",
      "text/plain": [
       "<Figure size 432x288 with 1 Axes>"
      ]
     },
     "metadata": {
      "needs_background": "light"
     },
     "output_type": "display_data"
    }
   ],
   "source": [
    "x0 = -4\n",
    "lr = 0.01\n",
    "\n",
    "def partial(x):\n",
    "    if x == 0:\n",
    "        raise ValueError('不可导')\n",
    "    dx = (2*(x+1)) * (x<0) + (8*(x-1)) * (x>0)\n",
    "    return dx\n",
    "\n",
    "for i in range(10000):\n",
    "    x0 -= lr * partial(x0)\n",
    "    plt.scatter(x0, y(x0), c='y')\n",
    "    \n",
    "plt.scatter([-1,1], [4,1], c='r') # 极值点    \n",
    "plt.plot(x, y(x));"
   ]
  },
  {
   "cell_type": "code",
   "execution_count": 3,
   "metadata": {},
   "outputs": [
    {
     "data": {
      "image/png": "[encoded data removed]",
      "text/plain": [
       "<Figure size 432x288 with 1 Axes>"
      ]
     },
     "metadata": {
      "needs_background": "light"
     },
     "output_type": "display_data"
    }
   ],
   "source": [
    "import copy\n",
    "\n",
    "x0 = -4\n",
    "lr = 0.2\n",
    "alpha = 0.1\n",
    "# 函数没选好, 梯度太小了, 动量不足, 懒得改\n",
    "dx_old = 0\n",
    "for i in range(100):\n",
    "    dx = alpha * partial(x0) + dx_old * (1-alpha)\n",
    "    x0 -= lr * dx\n",
    "    plt.scatter(x0, y(x0), c='y')\n",
    "    \n",
    "    dx_old = copy.copy(dx)\n",
    "    \n",
    "plt.scatter([-1,1], [4,1], c='r') # 极值点    \n",
    "plt.plot(x, y(x));"
   ]
  },
  {
   "cell_type": "markdown",
   "metadata": {},
   "source": [
    "### Ada自适应梯度调节法\n",
    "Adagrad使用了二阶梯度, 每个参数的更新的learning_rate都不同\n",
    "\n",
    "在梯度下降的公式基础上, 给learning_rate的乘积项添加了一个乘子, 由梯度的累计均方根和一个防止分母为零的常数因子组成\n",
    "$$\\gamma_k = \\sum_{i=1}^{k}\\nabla \\theta_i^2 \\\\ \\theta_k = \\theta_{k-1} - \\frac{lr}{\\sqrt{\\gamma_k}+\\epsilon}\\nabla \\theta_k$$"
   ]
  },
  {
   "cell_type": "markdown",
   "metadata": {},
   "source": [
    "### RMSProp\n",
    "RMSProp则是对Adagrad进行了EMA, \n",
    "$$\\gamma_k = \\alpha \\gamma_{k-1} + (1 - \\alpha) \\nabla \\theta_k \\\\ \\theta_k = \\theta_{k-1} - \\frac{lr}{\\sqrt{\\gamma_k}+\\epsilon}\\nabla \\theta_k$$"
   ]
  },
  {
   "cell_type": "markdown",
   "metadata": {},
   "source": [
    "### Adam \n",
    "Adam结合了一阶与二阶梯度的EMA\n",
    "$$m_t = \\beta_1 m_{t-1} + (1 - \\beta_1)\\nabla \\theta_t \\\\ v_t = \\beta_2 v_{t-1} + (1-\\beta_2)\\nabla\\theta^2_t$$\n",
    "然后对求出的一二阶乘子进行偏差修正, 修正系数为$\\frac{1}{1-\\beta_i^t}$\n",
    "$$\\hat{m_t} = \\frac{m_t}{1-\\beta_1} \\\\ \\hat{v_t} = \\frac{v_t}{1-\\beta_2}$$\n",
    "参数更新\n",
    "$$\\theta_t = \\theta_{t-1} - lr  \\frac{\\hat{m_t}}{\\sqrt{\\hat{v_t}}+\\epsilon}$$"
   ]
  },
  {
   "cell_type": "markdown",
   "metadata": {},
   "source": [
    "### PyTorch种优化器选择"
   ]
  },
  {
   "cell_type": "code",
   "execution_count": 1,
   "metadata": {},
   "outputs": [],
   "source": [
    "from sklearn.datasets import make_classification\n",
    "data = make_classification(n_samples=1000, n_features=20,)"
   ]
  },
  {
   "cell_type": "code",
   "execution_count": 2,
   "metadata": {},
   "outputs": [],
   "source": [
    "import torch as t\n",
    "\n",
    "x = t.from_numpy(data[0]).float()\n",
    "x.requires_grad = True\n",
    "y_ = t.from_numpy(data[1]).float()"
   ]
  },
  {
   "cell_type": "code",
   "execution_count": 3,
   "metadata": {},
   "outputs": [],
   "source": [
    "class MLP(t.nn.Module):\n",
    "    def __init__(self, \n",
    "                 num_classes=10):\n",
    "        super(MLP, self).__init__()\n",
    "        self.linear1 = t.nn.Linear(in_features=20, out_features=32)\n",
    "        self.bn1 = t.nn.BatchNorm1d(32)\n",
    "        self.linear2 = t.nn.Linear(32,64)\n",
    "        self.bn2 = t.nn.BatchNorm1d(64)\n",
    "        self.linear3 = t.nn.Linear(64,1)\n",
    "    \n",
    "    def forward(self, x):\n",
    "        x = self.linear1(x)\n",
    "        x = self.bn1(x)\n",
    "        x = t.relu(x)\n",
    "        x = self.linear2(x)\n",
    "        x = self.bn2(x)\n",
    "        x = self.linear3(x)\n",
    "        x = t.sigmoid(x)\n",
    "        return x\n"
   ]
  },
  {
   "cell_type": "code",
   "execution_count": 6,
   "metadata": {},
   "outputs": [],
   "source": [
    "criterion = t.nn.BCELoss()\n",
    "\n",
    "models = []\n",
    "for i in range(5):\n",
    "    models.append(MLP())\n",
    "opt1 = t.optim.SGD(models[0].parameters(), lr=1e-3)\n",
    "opt2 = t.optim.Adagrad(models[1].parameters(), lr=1e-3)\n",
    "opt3 = t.optim.RMSprop(models[2].parameters(), lr=1e-3)\n",
    "opt4 = t.optim.Adam(models[3].parameters(), lr=1e-3)\n",
    "opt5 = t.optim.SGD(models[4].parameters(), lr=1e-3, momentum=0.9)\n",
    "opts = [opt1, opt2, opt3, opt4, opt5]"
   ]
  },
  {
   "cell_type": "code",
   "execution_count": 7,
   "metadata": {},
   "outputs": [],
   "source": [
    "losses = []\n",
    "for i, opt in enumerate(opts):\n",
    "    \n",
    "    losses.append([])\n",
    "    for epoch in range(100):\n",
    "        opt.zero_grad()\n",
    "        \n",
    "        y = models[i](x)\n",
    "        \n",
    "        loss = criterion(y.squeeze(), y_)\n",
    "        loss.backward()\n",
    "        \n",
    "        opt.step()\n",
    "        losses[i].append(loss.data.item())\n",
    "        "
   ]
  },
  {
   "cell_type": "code",
   "execution_count": 22,
   "metadata": {},
   "outputs": [
    {
     "data": {
      "image/png": "[encoded data removed]",
      "text/plain": [
       "<Figure size 432x288 with 1 Axes>"
      ]
     },
     "metadata": {
      "needs_background": "light"
     },
     "output_type": "display_data"
    }
   ],
   "source": [
    "import matplotlib.pyplot as plt\n",
    "cmap = ['k', 'r', 'b','y','cyan']\n",
    "for loss, c in zip(losses, cmap):\n",
    "    plt.plot(range(100), loss, c=c)"
   ]
  }
 ],
 "metadata": {
  "kernelspec": {
   "display_name": "tf",
   "language": "python",
   "name": "tf"
  },
  "language_info": {
   "codemirror_mode": {
    "name": "ipython",
    "version": 3
   },
   "file_extension": ".py",
   "mimetype": "text/x-python",
   "name": "python",
   "nbconvert_exporter": "python",
   "pygments_lexer": "ipython3",
   "version": "3.6.7"
  }
 },
 "nbformat": 4,
 "nbformat_minor": 2
}
