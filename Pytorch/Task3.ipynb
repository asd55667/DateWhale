{
 "cells": [
  {
   "cell_type": "markdown",
   "metadata": {},
   "source": [
    "# PyTorch实现Logistic regression"
   ]
  },
  {
   "cell_type": "code",
   "execution_count": 1,
   "metadata": {},
   "outputs": [],
   "source": [
    "import torch.nn as nn\n",
    "import torch as t\n",
    "t.manual_seed(20190410);"
   ]
  },
  {
   "cell_type": "code",
   "execution_count": 2,
   "metadata": {},
   "outputs": [],
   "source": [
    "from sklearn import datasets\n",
    "from sklearn.model_selection import train_test_split\n",
    "data = datasets.make_classification(n_samples=1000, n_features=20)\n",
    "train_X, test_X, train_y, test_y = train_test_split(data[0], data[1], test_size=0.3)"
   ]
  },
  {
   "cell_type": "code",
   "execution_count": 3,
   "metadata": {},
   "outputs": [],
   "source": [
    "from sklearn.preprocessing import StandardScaler\n",
    "ss = StandardScaler()\n",
    "train_x = ss.fit_transform(train_X)\n",
    "test_x = ss.transform(test_X)"
   ]
  },
  {
   "cell_type": "code",
   "execution_count": 4,
   "metadata": {},
   "outputs": [],
   "source": [
    "val_x = t.from_numpy(test_x).float()\n",
    "y_ = t.from_numpy(train_y).float()\n",
    "\n",
    "x = t.from_numpy(train_x).float()\n",
    "w = t.randn(20, requires_grad=True)\n",
    "b = t.randn(1, requires_grad=True)"
   ]
  },
  {
   "cell_type": "code",
   "execution_count": 5,
   "metadata": {},
   "outputs": [
    {
     "name": "stdout",
     "output_type": "stream",
     "text": [
      "tensor(1.5372, grad_fn=<BinaryCrossEntropyBackward>)\n",
      "tensor(0.4902, grad_fn=<BinaryCrossEntropyBackward>)\n",
      "tensor(0.2672, grad_fn=<BinaryCrossEntropyBackward>)\n",
      "tensor(0.2055, grad_fn=<BinaryCrossEntropyBackward>)\n",
      "tensor(0.1819, grad_fn=<BinaryCrossEntropyBackward>)\n",
      "tensor(0.1709, grad_fn=<BinaryCrossEntropyBackward>)\n",
      "tensor(0.1650, grad_fn=<BinaryCrossEntropyBackward>)\n",
      "tensor(0.1616, grad_fn=<BinaryCrossEntropyBackward>)\n",
      "tensor(0.1593, grad_fn=<BinaryCrossEntropyBackward>)\n",
      "tensor(0.1578, grad_fn=<BinaryCrossEntropyBackward>)\n",
      "tensor(0.1567, grad_fn=<BinaryCrossEntropyBackward>)\n",
      "tensor(0.1559, grad_fn=<BinaryCrossEntropyBackward>)\n"
     ]
    }
   ],
   "source": [
    "criterion = nn.BCELoss()\n",
    "optimizer = t.optim.SGD([w,b], lr=0.1)\n",
    "for epoch in range(600):\n",
    "    optimizer.zero_grad()\n",
    "    \n",
    "    y = t.sigmoid(x @ w + b)\n",
    "    loss = criterion(y, y_)\n",
    "    \n",
    "    loss.backward()\n",
    "    optimizer.step()\n",
    "    if epoch % 50 == 0:\n",
    "        print(loss)"
   ]
  },
  {
   "cell_type": "code",
   "execution_count": 6,
   "metadata": {},
   "outputs": [],
   "source": [
    "y_pred = t.sigmoid(val_x@w+b).detach().numpy()\n",
    "y_pred[y_pred>0.5]=1\n",
    "y_pred[y_pred<=0.5]=0"
   ]
  },
  {
   "cell_type": "code",
   "execution_count": 7,
   "metadata": {},
   "outputs": [
    {
     "data": {
      "text/plain": [
       "0.95"
      ]
     },
     "execution_count": 7,
     "metadata": {},
     "output_type": "execute_result"
    }
   ],
   "source": [
    "from sklearn.metrics import accuracy_score\n",
    "accuracy_score(y_pred, test_y)"
   ]
  },
  {
   "cell_type": "markdown",
   "metadata": {},
   "source": [
    "# 用PyTorch类实现Logistic regression,torch.nn.module写网络结构"
   ]
  },
  {
   "cell_type": "code",
   "execution_count": 8,
   "metadata": {},
   "outputs": [],
   "source": [
    "import torch.nn as nn\n",
    "import torch as t\n",
    "t.manual_seed(20190410);"
   ]
  },
  {
   "cell_type": "code",
   "execution_count": 9,
   "metadata": {},
   "outputs": [],
   "source": [
    "from sklearn import datasets\n",
    "from sklearn.model_selection import train_test_split\n",
    "data = datasets.make_classification(n_samples=1000, n_features=20)\n",
    "train_X, test_X, train_y, test_y = train_test_split(data[0], data[1], test_size=0.3)"
   ]
  },
  {
   "cell_type": "code",
   "execution_count": 10,
   "metadata": {},
   "outputs": [],
   "source": [
    "from sklearn.preprocessing import StandardScaler\n",
    "ss = StandardScaler()\n",
    "train_x = ss.fit_transform(train_X)\n",
    "test_x = ss.transform(test_X)"
   ]
  },
  {
   "cell_type": "code",
   "execution_count": 11,
   "metadata": {},
   "outputs": [],
   "source": [
    "val_x = t.from_numpy(test_x).float()\n",
    "y_ = t.from_numpy(train_y).float()\n",
    "\n",
    "x = t.from_numpy(train_x).float()"
   ]
  },
  {
   "cell_type": "code",
   "execution_count": 12,
   "metadata": {
    "scrolled": true
   },
   "outputs": [],
   "source": [
    "class LogisticRegression(nn.Module):\n",
    "    def __init__(self, ):\n",
    "        super(LogisticRegression, self).__init__()\n",
    "        self.lr = nn.Linear(20, 1)\n",
    "        \n",
    "    def forward(self, x):\n",
    "        out = t.sigmoid(self.lr(x))\n",
    "        return out\n",
    "        \n",
    "lr = LogisticRegression()        "
   ]
  },
  {
   "cell_type": "code",
   "execution_count": 13,
   "metadata": {},
   "outputs": [
    {
     "name": "stdout",
     "output_type": "stream",
     "text": [
      "tensor(0.6476)\n",
      "tensor(0.3732)\n",
      "tensor(0.3406)\n",
      "tensor(0.3285)\n",
      "tensor(0.3228)\n",
      "tensor(0.3196)\n",
      "tensor(0.3178)\n",
      "tensor(0.3166)\n",
      "tensor(0.3159)\n",
      "tensor(0.3154)\n",
      "tensor(0.3151)\n",
      "tensor(0.3149)\n"
     ]
    }
   ],
   "source": [
    "criterion = nn.BCELoss()\n",
    "optimizer = t.optim.SGD(lr.parameters(), lr=0.1)\n",
    "for epoch in range(600):\n",
    "    optimizer.zero_grad()\n",
    "    \n",
    "    y = lr(x)\n",
    "    loss = criterion(y.squeeze(dim=1), y_)\n",
    "    \n",
    "    loss.backward()\n",
    "    optimizer.step()\n",
    "    \n",
    "    if epoch % 50 == 0:\n",
    "        print(loss.data)"
   ]
  },
  {
   "cell_type": "code",
   "execution_count": 14,
   "metadata": {},
   "outputs": [],
   "source": [
    "y_pred = lr(val_x).squeeze(dim=1).detach().numpy()\n",
    "y_pred[y_pred > 0.5] = 1\n",
    "y_pred[y_pred <= 0.5] = 0"
   ]
  },
  {
   "cell_type": "code",
   "execution_count": 15,
   "metadata": {},
   "outputs": [
    {
     "data": {
      "text/plain": [
       "0.85"
      ]
     },
     "execution_count": 15,
     "metadata": {},
     "output_type": "execute_result"
    }
   ],
   "source": [
    "from sklearn.metrics import accuracy_score\n",
    "accuracy_score(y_pred, test_y)"
   ]
  }
 ],
 "metadata": {
  "kernelspec": {
   "display_name": "tf",
   "language": "python",
   "name": "tf"
  },
  "language_info": {
   "codemirror_mode": {
    "name": "ipython",
    "version": 3
   },
   "file_extension": ".py",
   "mimetype": "text/x-python",
   "name": "python",
   "nbconvert_exporter": "python",
   "pygments_lexer": "ipython3",
   "version": "3.6.7"
  }
 },
 "nbformat": 4,
 "nbformat_minor": 2
}
